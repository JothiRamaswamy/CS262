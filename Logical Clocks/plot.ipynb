{
 "cells": [
  {
   "cell_type": "code",
   "execution_count": 2,
   "source": [],
   "outputs": [],
   "metadata": {}
  },
  {
   "cell_type": "code",
   "execution_count": null,
   "source": [
    "import csv\n",
    "import os\n",
    "import pandas as pd\n",
    "import matplotlib.pyplot as plt\n",
    "import matplotlib.gridspec as gridspec\n",
    "df_0 = pd.read_csv('experiment1/csvs/log_0_5.csv')\n",
    "times_0 = df_0[\"logical_clock_time\"]\n",
    "differences_0 = [times_0[0]] + [times_0[i] - times_0[i-1] for i in range(1, len(times_0))]\n",
    "avg_0_10 = sum(differences_0)/len(differences_0)\n",
    "df_1 = pd.read_csv('experiment1/csvs/log_1_3.csv')\n",
    "times_1 = df_1[\"logical_clock_time\"]\n",
    "differences_1 = [times_1[0]] + [times_1[i] - times_1[i-1] for i in range(1, len(times_1))]\n",
    "avg_1_10 = sum(differences_1)/len(differences_1)\n",
    "df_2 = pd.read_csv('experiment1/csvs/log_2_1.csv')\n",
    "times_2 = df_2[\"logical_clock_time\"]\n",
    "differences_2 = [times_2[0]] + [times_2[i] - times_2[i-1] for i in range(1, len(times_2))]\n",
    "avg_2_10 = sum(differences_2)/len(differences_2)\n",
    "avgs_10 = [[1, 10]] + sorted([avg_0_10, avg_1_10, avg_2_10])\n",
    "\n",
    "plt.title(\"Event Type Distribution for Clock Tick Rate Range of [1,10]\")\n",
    "event_type_dict_0 = df_0.groupby(\"event_type\").size().to_dict()\n",
    "plt.xlabel(\"Machine with the fastest speed\")\n",
    "plt.ylabel(\"Number of Events\")\n",
    "plt.bar(event_type_dict_0.keys(), event_type_dict_0.values())\n",
    "plt.show()\n",
    "event_type_dict_1 = df_1.groupby(\"event_type\").size().to_dict()\n",
    "plt.xlabel(\"Machine with the lowest speed\")\n",
    "plt.ylabel(\"Number of Events\")\n",
    "plt.bar(list(event_type_dict_1.keys()) + [\"Send\"], list(event_type_dict_1.values()) + [0])\n",
    "plt.show()\n",
    "event_type_dict_2 = df_2.groupby(\"event_type\").size().to_dict()\n",
    "plt.xlabel(\"Machine with the middle speed\")\n",
    "plt.ylabel(\"Number of Events\")\n",
    "plt.bar(event_type_dict_2.keys(), event_type_dict_2.values())\n",
    "plt.show()"
   ],
   "outputs": [],
   "metadata": {}
  }
 ],
 "metadata": {
  "orig_nbformat": 4,
  "language_info": {
   "name": "python",
   "version": "3.9.12",
   "mimetype": "text/x-python",
   "codemirror_mode": {
    "name": "ipython",
    "version": 3
   },
   "pygments_lexer": "ipython3",
   "nbconvert_exporter": "python",
   "file_extension": ".py"
  },
  "kernelspec": {
   "name": "python3",
   "display_name": "Python 3.9.12 64-bit"
  },
  "interpreter": {
   "hash": "b0fa6594d8f4cbf19f97940f81e996739fb7646882a419484c72d19e05852a7e"
  }
 },
 "nbformat": 4,
 "nbformat_minor": 2
}